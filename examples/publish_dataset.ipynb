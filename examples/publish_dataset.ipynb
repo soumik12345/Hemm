{
 "cells": [
  {
   "cell_type": "code",
   "execution_count": null,
   "metadata": {},
   "outputs": [],
   "source": [
    "import wandb\n",
    "import weave\n",
    "from hemm.utils import publish_dataset_to_weave"
   ]
  },
  {
   "cell_type": "code",
   "execution_count": null,
   "metadata": {},
   "outputs": [],
   "source": [
    "wandb.init(project=\"propmpt-alignment\")\n",
    "weave.init(project_name=\"propmpt-alignment\")"
   ]
  },
  {
   "cell_type": "code",
   "execution_count": null,
   "metadata": {},
   "outputs": [],
   "source": [
    "dataset_reference = publish_dataset_to_weave(\n",
    "    dataset_path=\"nateraw/parti-prompts\",\n",
    "    prompt_column=\"Prompt\",\n",
    "    split=\"train\",\n",
    "    data_limit=10,\n",
    ")"
   ]
  },
  {
   "cell_type": "code",
   "execution_count": null,
   "metadata": {},
   "outputs": [],
   "source": [
    "dataset_reference = publish_dataset_to_weave(\n",
    "    dataset_path=\"HuggingFaceM4/COCO\",\n",
    "    prompt_column=\"sentences\",\n",
    "    ground_truth_image_column=\"image\",\n",
    "    split=\"validation\",\n",
    "    dataset_transforms=[\n",
    "        lambda item: {**item, \"sentences\": item[\"sentences\"][\"raw\"]}\n",
    "    ],\n",
    "    data_limit=10,\n",
    ")"
   ]
  },
  {
   "cell_type": "code",
   "execution_count": null,
   "metadata": {},
   "outputs": [],
   "source": []
  }
 ],
 "metadata": {
  "kernelspec": {
   "display_name": "Python 3",
   "language": "python",
   "name": "python3"
  },
  "language_info": {
   "codemirror_mode": {
    "name": "ipython",
    "version": 3
   },
   "file_extension": ".py",
   "mimetype": "text/x-python",
   "name": "python",
   "nbconvert_exporter": "python",
   "pygments_lexer": "ipython3",
   "version": "3.10.12"
  }
 },
 "nbformat": 4,
 "nbformat_minor": 2
}
