{
 "cells": [
  {
   "cell_type": "code",
   "execution_count": 1,
   "metadata": {},
   "outputs": [],
   "source": [
    "import weave\n",
    "from hemm.utils import publish_dataset_to_weave"
   ]
  },
  {
   "cell_type": "code",
   "execution_count": 2,
   "metadata": {},
   "outputs": [
    {
     "name": "stdout",
     "output_type": "stream",
     "text": [
      "weave version 0.50.3 is available!  To upgrade, please run:\n",
      " $ pip install weave --upgrade\n",
      "Logged in as Weights & Biases user: geekyrakshit.\n",
      "View Weave data at https://wandb.ai/geekyrakshit/t2i_eval/weave\n"
     ]
    },
    {
     "name": "stderr",
     "output_type": "stream",
     "text": [
      "/home/ubuntu/.local/lib/python3.10/site-packages/datasets/load.py:1486: FutureWarning: The repository for HuggingFaceM4/COCO contains custom code which must be executed to correctly load the dataset. You can inspect the repository content at https://hf.co/datasets/HuggingFaceM4/COCO\n",
      "You can avoid this message in future by passing the argument `trust_remote_code=True`.\n",
      "Passing `trust_remote_code=True` will be mandatory to load this dataset from the next major release of `datasets`.\n",
      "  warnings.warn(\n"
     ]
    },
    {
     "name": "stdout",
     "output_type": "stream",
     "text": [
      "dataset_dict=Dataset({\n",
      "    features: ['ground_truth_image', 'filepath', 'sentids', 'filename', 'imgid', 'split', 'prompt', 'cocoid'],\n",
      "    num_rows: 5\n",
      "})\n"
     ]
    },
    {
     "data": {
      "application/vnd.jupyter.widget-view+json": {
       "model_id": "8a919f8eb37d4a7ea8b163aceffd43e6",
       "version_major": 2,
       "version_minor": 0
      },
      "text/plain": [
       "  0%|          | 0/5 [00:00<?, ?it/s]"
      ]
     },
     "metadata": {},
     "output_type": "display_data"
    },
    {
     "name": "stdout",
     "output_type": "stream",
     "text": [
      "📦 Published to https://wandb.ai/geekyrakshit/t2i_eval/weave/objects/COCO/versions/ZbXFrwzeopU3dDEdSmYOYM2d884rNX7JuevTnT2mjjc\n"
     ]
    }
   ],
   "source": [
    "weave.init(project_name=\"t2i_eval\")\n",
    "\n",
    "dataset_reference = publish_dataset_to_weave(\n",
    "    dataset_path=\"HuggingFaceM4/COCO\",\n",
    "    prompt_column=\"sentences\",\n",
    "    ground_truth_image_column=\"image\",\n",
    "    split=\"validation\",\n",
    "    dataset_transforms=[\n",
    "        lambda item: {**item, \"sentences\": item[\"sentences\"][\"raw\"]}\n",
    "    ],\n",
    "    data_limit=5,\n",
    ")"
   ]
  }
 ],
 "metadata": {
  "kernelspec": {
   "display_name": "Python 3",
   "language": "python",
   "name": "python3"
  },
  "language_info": {
   "codemirror_mode": {
    "name": "ipython",
    "version": 3
   },
   "file_extension": ".py",
   "mimetype": "text/x-python",
   "name": "python",
   "nbconvert_exporter": "python",
   "pygments_lexer": "ipython3",
   "version": "3.10.12"
  }
 },
 "nbformat": 4,
 "nbformat_minor": 2
}
